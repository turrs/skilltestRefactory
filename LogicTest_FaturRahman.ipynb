{
  "nbformat": 4,
  "nbformat_minor": 0,
  "metadata": {
    "colab": {
      "name": "LogicTest-FaturRahman.ipynb",
      "provenance": [],
      "collapsed_sections": []
    },
    "kernelspec": {
      "name": "python3",
      "display_name": "Python 3"
    },
    "language_info": {
      "name": "python"
    }
  },
  "cells": [
    {
      "cell_type": "code",
      "source": [
        "#Biggest Number\n",
        "def sort (a,b,c):\n",
        "    if a >= b & a>=c :\n",
        "      if b>=c :\n",
        "        result = int(str(a) + str(b)+str(c))\n",
        "      else :\n",
        "        result = int(str(a) + str(c)+str(b))\n",
        "    elif b >= a & b >= c:\n",
        "      if a >= c :\n",
        "        result = int(str(b) + str(a)+str(c))\n",
        "      else :\n",
        "        result = int(str(b) + str(c)+str(a))\n",
        "    else :\n",
        "      if a>=b :\n",
        "        result = int(str(c) + str(a)+str(b))\n",
        "      else:\n",
        "        result = int(str(c) + str(b)+str(a))\n",
        "    return result\n",
        "\n",
        "try:\n",
        "    givenNumber=435  #change for test   \n",
        "    charterList = [i for i in str(givenNumber)]\n",
        "    if len(charterList) == 3:   \n",
        "        a = int(charterList[0])\n",
        "        b = int(charterList[1])\n",
        "        c = int(charterList[2])\n",
        "        result = sort(a,b,c)\n",
        "        print (result)\n",
        "    else:\n",
        "      print(\"null\")\n",
        "except:\n",
        "     print(\"null\")\n",
        "\n"
      ],
      "metadata": {
        "colab": {
          "base_uri": "https://localhost:8080/"
        },
        "id": "Wo1YJ8zTSlUK",
        "outputId": "92d7621e-25f1-43cc-b187-1b5aaaf9d2e7"
      },
      "execution_count": 76,
      "outputs": [
        {
          "output_type": "stream",
          "name": "stdout",
          "text": [
            "543\n"
          ]
        }
      ]
    },
    {
      "cell_type": "code",
      "source": [
        "#Map Array Data \n",
        "\n",
        "def productArray(num_array):\n",
        "  product = 1;\n",
        "  for i in range (len(num_array)) :\n",
        "    product = product * num_array[i]\n",
        "\n",
        "  result = [0] * len(num_array)\n",
        "  for i in range (len(num_array)):\n",
        "    result[i] = product / num_array[i]\n",
        "  return result\n",
        "\n",
        "print(productArray([12,20]))  #change for test  "
      ],
      "metadata": {
        "colab": {
          "base_uri": "https://localhost:8080/"
        },
        "id": "G-VCTqYW1ZU9",
        "outputId": "5fab6a8e-c405-4764-c0ee-9083a49832b7"
      },
      "execution_count": 80,
      "outputs": [
        {
          "output_type": "stream",
          "name": "stdout",
          "text": [
            "[20.0, 12.0]\n"
          ]
        }
      ]
    },
    {
      "cell_type": "code",
      "source": [
        "#Alternate Case\n",
        "def alternate_case(words):\n",
        "  words_char = [char.isupper() for char in words]\n",
        "  temp_char = [char for char in words]\n",
        "  result = \"\"\n",
        "  for j in range(len(words_char)):\n",
        "      result += temp_char[j].lower() if words_char[j] else temp_char[j].upper()\n",
        "  return result\n",
        "print(alternate_case(\"Hello World\")) #change for test  "
      ],
      "metadata": {
        "colab": {
          "base_uri": "https://localhost:8080/"
        },
        "id": "Oo8TZHeP1aW9",
        "outputId": "6400bba9-608b-423f-e1e5-43dceab96fca"
      },
      "execution_count": 78,
      "outputs": [
        {
          "output_type": "stream",
          "name": "stdout",
          "text": [
            "hELLO wORLD\n"
          ]
        }
      ]
    },
    {
      "cell_type": "code",
      "source": [
        "#Multiple 3 and 5\n",
        "import math\n",
        "value = int(input())  #input for test  \n",
        "def sumDivBy (m , value):\n",
        "  value = value - 1 \n",
        "  multiples = math.floor(value/m) * m \n",
        "  return (multiples*(1+(multiples/m))/2) \n",
        "result = sumDivBy(3,value) + sumDivBy(5,value) - sumDivBy(15, value)\n",
        "\n",
        "print(int(result))  "
      ],
      "metadata": {
        "colab": {
          "base_uri": "https://localhost:8080/"
        },
        "id": "EmPf4rId1lmS",
        "outputId": "3326a784-ed6a-44b5-8f81-3d71d7a683bf"
      },
      "execution_count": null,
      "outputs": [
        {
          "output_type": "stream",
          "name": "stdout",
          "text": [
            "10\n",
            "23\n"
          ]
        }
      ]
    },
    {
      "cell_type": "code",
      "source": [
        "#Find Middle Alphabet\n",
        "import math\n",
        "alphabet = 'ABCDEFGHIJKLMNOPQRSTUVWXYZ'\n",
        "def middle_alphabet(first_letter, last_letter):\n",
        "  index1 = ord(first_letter) - 65\n",
        "  index2 = ord(last_letter) - 65\n",
        "  if (index1+index2) % 2 == 1:\n",
        "    index3 = math.floor((index1+index2)/2)\n",
        "    index4 = math.ceil((index1+index2)/2)\n",
        "    print(alphabet[index3], alphabet[index4])\n",
        "  else:\n",
        "    print(alphabet[(index1+index2)//2])\n",
        "middle_alphabet('C','H')  #change for test "
      ],
      "metadata": {
        "colab": {
          "base_uri": "https://localhost:8080/"
        },
        "id": "bP3jU4s52nN0",
        "outputId": "59ccb5bb-848f-40c3-9e09-dcdd0f6d79bd"
      },
      "execution_count": 23,
      "outputs": [
        {
          "output_type": "stream",
          "name": "stdout",
          "text": [
            "E F\n"
          ]
        }
      ]
    },
    {
      "cell_type": "code",
      "source": [
        "#Reverse Words\n",
        "def reverse_words(words):\n",
        "  split_words = words.split(\" \")\n",
        "  result = \"\"\n",
        "  for word in split_words:\n",
        "    reversed_word = [char for char in reversed(word)]\n",
        "    is_uppercase_list = [char.isupper() for char in word]\n",
        "    for j in range(len(is_uppercase_list)):\n",
        "      result += reversed_word[j].upper() if is_uppercase_list[j] else reversed_word[j].lower()\n",
        "    result += \" \"\n",
        "  return result.strip()\n",
        "print(reverse_words(\"I am A Great Human\"))  #change for test "
      ],
      "metadata": {
        "colab": {
          "base_uri": "https://localhost:8080/"
        },
        "id": "wcvRgwam2Pcc",
        "outputId": "594dcb74-6ad3-4a9d-c972-cbbd6ac733ce"
      },
      "execution_count": null,
      "outputs": [
        {
          "output_type": "stream",
          "name": "stdout",
          "text": [
            "I ma A Taerg Namuh\n"
          ]
        }
      ]
    },
    {
      "cell_type": "code",
      "source": [
        "#Nearest Fibbonacci\n",
        "def calculatedRangeFib(n):\n",
        "    a=0\n",
        "    b=1\n",
        "    while(a<=n):\n",
        "        i=a\n",
        "        c=a+b\n",
        "        a=b\n",
        "        b=c\n",
        "        s=a\n",
        "    x=abs(n-i)\n",
        "    y=abs(n-s)\n",
        "    if(x<y):\n",
        "      result = i - n\n",
        "      return abs(result)\n",
        "    elif(y==x):\n",
        "      result = i - n\n",
        "      return abs(result)\n",
        "    else:\n",
        "      result = s - n\n",
        "      return abs(result)\n",
        "    \n",
        "\n",
        "n=int(input()) #input\n",
        "print(calculatedRangeFib(n))\n",
        "\n"
      ],
      "metadata": {
        "colab": {
          "base_uri": "https://localhost:8080/"
        },
        "id": "ikv5jHz-8l3g",
        "outputId": "762131ed-bd74-4f7a-d4d2-a8ebbd866fb0"
      },
      "execution_count": 112,
      "outputs": [
        {
          "output_type": "stream",
          "name": "stdout",
          "text": [
            "4\n",
            "1\n"
          ]
        }
      ]
    }
  ]
}